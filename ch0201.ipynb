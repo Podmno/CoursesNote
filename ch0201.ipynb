{
 "cells": [
  {
   "cell_type": "markdown",
   "id": "30db7b50",
   "metadata": {},
   "source": [
    "# 2.1 数据操作\n",
    "\n",
    "mxnet 与 numpy 兼容设置："
   ]
  },
  {
   "cell_type": "code",
   "execution_count": 1,
   "id": "81fa8cd8",
   "metadata": {},
   "outputs": [],
   "source": [
    "from mxnet import np, npx\n",
    "\n",
    "npx.set_np()"
   ]
  },
  {
   "cell_type": "markdown",
   "id": "0e7efda4",
   "metadata": {},
   "source": [
    "常用数据操作"
   ]
  },
  {
   "cell_type": "code",
   "execution_count": null,
   "id": "3fe87ea0",
   "metadata": {},
   "outputs": [
    {
     "name": "stdout",
     "output_type": "stream",
     "text": [
      "x data: [ 0.  1.  2.  3.  4.  5.  6.  7.  8.  9. 10. 11.]\n",
      "x shape: (12,)\n",
      "x size: 12\n",
      "x reshaped to X: [[ 0.  1.  2.  3.]\n",
      " [ 4.  5.  6.  7.]\n",
      " [ 8.  9. 10. 11.]]\n"
     ]
    }
   ],
   "source": [
    "# np.arrange 创建 0,1,2,3,4,....,10,11\n",
    "x = np.arange(12)\n",
    "print(f\"x data: {x}\")\n",
    "print(f\"x shape: {x.shape}\")\n",
    "print(f\"x size: {x.size}\")\n",
    "X = x.reshape((3, 4))\n",
    "print(f\"x reshaped to X: {X}\")"
   ]
  },
  {
   "cell_type": "code",
   "execution_count": 15,
   "id": "b8ad88ae",
   "metadata": {},
   "outputs": [
    {
     "name": "stdout",
     "output_type": "stream",
     "text": [
      "[[[0. 0. 0. 0.]\n",
      "  [0. 0. 0. 0.]\n",
      "  [0. 0. 0. 0.]]\n",
      "\n",
      " [[0. 0. 0. 0.]\n",
      "  [0. 0. 0. 0.]\n",
      "  [0. 0. 0. 0.]]]\n",
      "[[[1. 1. 1. 1.]\n",
      "  [1. 1. 1. 1.]\n",
      "  [1. 1. 1. 1.]]\n",
      "\n",
      " [[1. 1. 1. 1.]\n",
      "  [1. 1. 1. 1.]\n",
      "  [1. 1. 1. 1.]]]\n",
      "[[ 1.1630787   2.2122064   0.4838046   0.7740038 ]\n",
      " [ 0.29956347  1.0434403   0.15302546  1.1839255 ]\n",
      " [-1.1688148   1.8917114   1.5580711  -1.2347414 ]]\n"
     ]
    }
   ],
   "source": [
    "print(np.zeros((2,3,4)))\n",
    "print(np.ones((2,3,4)))\n",
    "\n",
    "# 创建一个形状为 (3,4) 的张量\n",
    "# 其中的每个元素都从均值为 0、标准差为 1 的标准高斯分布（正态分布）中随机采样\n",
    "print(np.random.normal(0,1,size=(3,4)))"
   ]
  },
  {
   "cell_type": "code",
   "execution_count": 16,
   "id": "1f5b7f29",
   "metadata": {},
   "outputs": [
    {
     "data": {
      "text/plain": [
       "array([[2., 1., 4., 3.],\n",
       "       [1., 2., 3., 4.],\n",
       "       [4., 3., 2., 1.]])"
      ]
     },
     "execution_count": 16,
     "metadata": {},
     "output_type": "execute_result"
    }
   ],
   "source": [
    "np.array([[2, 1, 4, 3], [1, 2, 3, 4], [4, 3, 2, 1]])"
   ]
  },
  {
   "cell_type": "code",
   "execution_count": 4,
   "id": "9e3ca688",
   "metadata": {},
   "outputs": [
    {
     "data": {
      "text/plain": [
       "array([[12., 12., 12., 12.],\n",
       "       [12., 12., 12., 12.],\n",
       "       [ 8.,  9., 10., 11.]])"
      ]
     },
     "execution_count": 4,
     "metadata": {},
     "output_type": "execute_result"
    }
   ],
   "source": [
    "X = np.arange(12).reshape(3,4)\n",
    "X[0:2, :] = 12\n",
    "X"
   ]
  },
  {
   "cell_type": "markdown",
   "id": "a1400b38",
   "metadata": {},
   "source": [
    "练习题：X > Y / X < Y 判断打印"
   ]
  },
  {
   "cell_type": "code",
   "execution_count": 8,
   "id": "6251f456",
   "metadata": {},
   "outputs": [
    {
     "name": "stdout",
     "output_type": "stream",
     "text": [
      "[[ 0.  1.  2.  3.]\n",
      " [ 4.  5.  6.  7.]\n",
      " [ 8.  9. 10. 11.]]\n",
      "[[2. 1. 4. 3.]\n",
      " [1. 2. 3. 4.]\n",
      " [4. 3. 2. 1.]]\n"
     ]
    }
   ],
   "source": [
    "X = np.arange(12).reshape(3, 4)\n",
    "Y = np.array([[2, 1, 4, 3], [1, 2, 3, 4], [4, 3, 2, 1]])\n",
    "print(X)\n",
    "print(Y)"
   ]
  },
  {
   "cell_type": "code",
   "execution_count": 10,
   "id": "88df3f38",
   "metadata": {},
   "outputs": [
    {
     "name": "stdout",
     "output_type": "stream",
     "text": [
      "[[False  True False  True]\n",
      " [False False False False]\n",
      " [False False False False]]\n",
      "[[ True False  True False]\n",
      " [False False False False]\n",
      " [False False False False]]\n",
      "[[False False False False]\n",
      " [ True  True  True  True]\n",
      " [ True  True  True  True]]\n"
     ]
    }
   ],
   "source": [
    "print(X == Y)\n",
    "print(X < Y)\n",
    "print(X > Y)"
   ]
  },
  {
   "cell_type": "markdown",
   "id": "5e89538b",
   "metadata": {},
   "source": [
    "练习题：广播机制测试"
   ]
  }
 ],
 "metadata": {
  "kernelspec": {
   "display_name": "d2l",
   "language": "python",
   "name": "python3"
  },
  "language_info": {
   "codemirror_mode": {
    "name": "ipython",
    "version": 3
   },
   "file_extension": ".py",
   "mimetype": "text/x-python",
   "name": "python",
   "nbconvert_exporter": "python",
   "pygments_lexer": "ipython3",
   "version": "3.9.23"
  }
 },
 "nbformat": 4,
 "nbformat_minor": 5
}
