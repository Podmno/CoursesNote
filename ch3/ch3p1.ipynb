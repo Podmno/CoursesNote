{
 "cells": [
  {
   "cell_type": "markdown",
   "id": "eefaa259",
   "metadata": {},
   "source": [
    "# 3.1 线性回归"
   ]
  }
 ],
 "metadata": {
  "kernelspec": {
   "display_name": "d2l",
   "language": "python",
   "name": "python3"
  },
  "language_info": {
   "name": "python",
   "version": "3.9.23"
  }
 },
 "nbformat": 4,
 "nbformat_minor": 5
}
