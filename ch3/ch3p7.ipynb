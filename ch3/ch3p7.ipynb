{
 "cells": [
  {
   "cell_type": "markdown",
   "id": "4df29990",
   "metadata": {},
   "source": [
    "# 3.7 softmax 回归的简洁实现"
   ]
  },
  {
   "cell_type": "markdown",
   "id": "31698520",
   "metadata": {},
   "source": [
    "## 练习题"
   ]
  },
  {
   "cell_type": "markdown",
   "id": "0b6c4512",
   "metadata": {},
   "source": [
    "练习题 1：尝试调整超参数，例如批量大小、迭代周期数和学习率，并查看结果"
   ]
  },
  {
   "cell_type": "markdown",
   "id": "1f51f9de",
   "metadata": {},
   "source": [
    "练习题 2：增加迭代周期的数量。为什么测试精度会在一段时间后降低？我们怎么解决这个问题"
   ]
  }
 ],
 "metadata": {
  "language_info": {
   "name": "python"
  }
 },
 "nbformat": 4,
 "nbformat_minor": 5
}
