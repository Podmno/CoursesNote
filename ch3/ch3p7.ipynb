{
 "cells": [
  {
   "cell_type": "markdown",
   "id": "4df29990",
   "metadata": {},
   "source": [
    "# 3.7 softmax 回归的简洁实现"
   ]
  }
 ],
 "metadata": {
  "language_info": {
   "name": "python"
  }
 },
 "nbformat": 4,
 "nbformat_minor": 5
}
