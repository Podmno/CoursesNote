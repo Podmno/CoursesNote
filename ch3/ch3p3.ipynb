{
 "cells": [
  {
   "cell_type": "markdown",
   "id": "e08ce8dc",
   "metadata": {},
   "source": [
    "# 3.3 线性回归的简单实现"
   ]
  },
  {
   "cell_type": "markdown",
   "id": "d068aa97",
   "metadata": {},
   "source": [
    "## 生成数据集"
   ]
  },
  {
   "cell_type": "code",
   "execution_count": 1,
   "id": "4e54449e",
   "metadata": {},
   "outputs": [],
   "source": [
    "from mxnet import autograd, gluon, np, npx\n",
    "from d2l import mxnet as d2l\n",
    "\n",
    "npx.set_np()\n",
    "\n",
    "true_w = np.array([2, -3.4])\n",
    "true_b = 4.2\n",
    "features, labels = d2l.synthetic_data(true_w, true_b, 1000)"
   ]
  },
  {
   "cell_type": "markdown",
   "id": "d667fbba",
   "metadata": {},
   "source": [
    "## 读取数据集"
   ]
  },
  {
   "cell_type": "code",
   "execution_count": 2,
   "id": "dc64ba08",
   "metadata": {},
   "outputs": [],
   "source": [
    "def load_array(data_arrays, batch_size, is_train=True):  #@save\n",
    "    \"\"\"构造一个Gluon数据迭代器\"\"\"\n",
    "    dataset = gluon.data.ArrayDataset(*data_arrays)\n",
    "    return gluon.data.DataLoader(dataset, batch_size, shuffle=is_train)\n",
    "\n",
    "batch_size = 10\n",
    "data_iter = load_array((features, labels), batch_size)"
   ]
  },
  {
   "cell_type": "code",
   "execution_count": 3,
   "id": "83c4a17d",
   "metadata": {},
   "outputs": [
    {
     "data": {
      "text/plain": [
       "[array([[ 0.16916618, -0.55512375],\n",
       "        [-0.47798827,  1.388212  ],\n",
       "        [ 1.9380112 , -0.2731147 ],\n",
       "        [ 1.1763296 , -0.2125029 ],\n",
       "        [ 0.15074243,  0.5477517 ],\n",
       "        [ 0.11690255, -0.03865968],\n",
       "        [-0.6430466 ,  0.65264654],\n",
       "        [ 0.7995023 ,  1.3597034 ],\n",
       "        [ 0.5427114 , -0.13436878],\n",
       "        [ 1.2402922 , -0.47070336]]),\n",
       " array([[ 6.4290004 ],\n",
       "        [-1.4801452 ],\n",
       "        [ 9.007935  ],\n",
       "        [ 7.2789474 ],\n",
       "        [ 2.6464026 ],\n",
       "        [ 4.562041  ],\n",
       "        [ 0.69254965],\n",
       "        [ 1.1824828 ],\n",
       "        [ 5.723277  ],\n",
       "        [ 8.289535  ]])]"
      ]
     },
     "execution_count": 3,
     "metadata": {},
     "output_type": "execute_result"
    }
   ],
   "source": [
    "next(iter(data_iter))"
   ]
  },
  {
   "cell_type": "code",
   "execution_count": 4,
   "id": "34ec75a2",
   "metadata": {},
   "outputs": [],
   "source": [
    "# nn是神经网络的缩写\n",
    "from mxnet.gluon import nn\n",
    "\n",
    "net = nn.Sequential()\n",
    "net.add(nn.Dense(1))"
   ]
  },
  {
   "cell_type": "code",
   "execution_count": 5,
   "id": "badc4e0c",
   "metadata": {},
   "outputs": [],
   "source": [
    "from mxnet import init\n",
    "\n",
    "net.initialize(init.Normal(sigma=0.01))"
   ]
  },
  {
   "cell_type": "code",
   "execution_count": 6,
   "id": "3bdb4c52",
   "metadata": {},
   "outputs": [],
   "source": [
    "loss = gluon.loss.L2Loss()"
   ]
  },
  {
   "cell_type": "code",
   "execution_count": 7,
   "id": "916aa9ae",
   "metadata": {},
   "outputs": [],
   "source": [
    "from mxnet import gluon\n",
    "\n",
    "trainer = gluon.Trainer(net.collect_params(), 'sgd', {'learning_rate': 0.03})"
   ]
  },
  {
   "cell_type": "code",
   "execution_count": 8,
   "id": "8fe899f3",
   "metadata": {},
   "outputs": [
    {
     "name": "stdout",
     "output_type": "stream",
     "text": [
      "epoch 1, loss 0.050168\n",
      "epoch 2, loss 0.000210\n",
      "epoch 3, loss 0.000052\n"
     ]
    }
   ],
   "source": [
    "num_epochs = 3\n",
    "for epoch in range(num_epochs):\n",
    "    for X, y in data_iter:\n",
    "        with autograd.record():\n",
    "            l = loss(net(X), y)\n",
    "        l.backward()\n",
    "        trainer.step(batch_size)\n",
    "    l = loss(net(features), labels)\n",
    "    print(f'epoch {epoch + 1}, loss {l.mean().asnumpy():f}')"
   ]
  },
  {
   "cell_type": "code",
   "execution_count": 9,
   "id": "7f073b06",
   "metadata": {},
   "outputs": [
    {
     "name": "stdout",
     "output_type": "stream",
     "text": [
      "w的估计误差： [ 0.00091362 -0.00058508]\n",
      "b的估计误差： [0.00085783]\n"
     ]
    }
   ],
   "source": [
    "w = net[0].weight.data()\n",
    "print(f'w的估计误差： {true_w - w.reshape(true_w.shape)}')\n",
    "b = net[0].bias.data()\n",
    "print(f'b的估计误差： {true_b - b}')"
   ]
  },
  {
   "cell_type": "code",
   "execution_count": 10,
   "id": "c82d451e",
   "metadata": {},
   "outputs": [
    {
     "ename": "TypeError",
     "evalue": "Operator `abs` registered in backend is known as `abs` in Python. This is a legacy operator which can only accept legacy ndarrays, while received an MXNet numpy ndarray. Please call `as_nd_ndarray()` upon the numpy ndarray to convert it to a legacy ndarray, and then feed the converted array to this operator.",
     "output_type": "error",
     "traceback": [
      "\u001b[0;31m---------------------------------------------------------------------------\u001b[0m",
      "\u001b[0;31mTypeError\u001b[0m                                 Traceback (most recent call last)",
      "Cell \u001b[0;32mIn[10], line 5\u001b[0m\n\u001b[1;32m      3\u001b[0m \u001b[38;5;28;01mfor\u001b[39;00m X, y \u001b[38;5;129;01min\u001b[39;00m data_iter:\n\u001b[1;32m      4\u001b[0m     \u001b[38;5;28;01mwith\u001b[39;00m autograd\u001b[38;5;241m.\u001b[39mrecord():\n\u001b[0;32m----> 5\u001b[0m         l \u001b[38;5;241m=\u001b[39m \u001b[43mloss\u001b[49m\u001b[43m(\u001b[49m\u001b[43mnet\u001b[49m\u001b[43m(\u001b[49m\u001b[43mX\u001b[49m\u001b[43m)\u001b[49m\u001b[43m,\u001b[49m\u001b[43m \u001b[49m\u001b[43my\u001b[49m\u001b[43m)\u001b[49m\n\u001b[1;32m      6\u001b[0m     l\u001b[38;5;241m.\u001b[39mbackward()\n\u001b[1;32m      7\u001b[0m     trainer\u001b[38;5;241m.\u001b[39mstep(batch_size)\n",
      "File \u001b[0;32m/usr/local/Caskroom/miniconda/base/envs/d2l/lib/python3.9/site-packages/mxnet/gluon/block.py:682\u001b[0m, in \u001b[0;36mBlock.__call__\u001b[0;34m(self, *args)\u001b[0m\n\u001b[1;32m    679\u001b[0m \u001b[38;5;28;01mfor\u001b[39;00m hook \u001b[38;5;129;01min\u001b[39;00m \u001b[38;5;28mself\u001b[39m\u001b[38;5;241m.\u001b[39m_forward_pre_hooks\u001b[38;5;241m.\u001b[39mvalues():\n\u001b[1;32m    680\u001b[0m     hook(\u001b[38;5;28mself\u001b[39m, args)\n\u001b[0;32m--> 682\u001b[0m out \u001b[38;5;241m=\u001b[39m \u001b[38;5;28;43mself\u001b[39;49m\u001b[38;5;241;43m.\u001b[39;49m\u001b[43mforward\u001b[49m\u001b[43m(\u001b[49m\u001b[38;5;241;43m*\u001b[39;49m\u001b[43margs\u001b[49m\u001b[43m)\u001b[49m\n\u001b[1;32m    684\u001b[0m \u001b[38;5;28;01mfor\u001b[39;00m hook \u001b[38;5;129;01min\u001b[39;00m \u001b[38;5;28mself\u001b[39m\u001b[38;5;241m.\u001b[39m_forward_hooks\u001b[38;5;241m.\u001b[39mvalues():\n\u001b[1;32m    685\u001b[0m     hook(\u001b[38;5;28mself\u001b[39m, args, out)\n",
      "File \u001b[0;32m/usr/local/Caskroom/miniconda/base/envs/d2l/lib/python3.9/site-packages/mxnet/gluon/block.py:1254\u001b[0m, in \u001b[0;36mHybridBlock.forward\u001b[0;34m(self, x, *args)\u001b[0m\n\u001b[1;32m   1251\u001b[0m                 v\u001b[38;5;241m.\u001b[39m_finish_deferred_init()\n\u001b[1;32m   1252\u001b[0m             params \u001b[38;5;241m=\u001b[39m {k: v\u001b[38;5;241m.\u001b[39mdata(ctx) \u001b[38;5;28;01mfor\u001b[39;00m k, v \u001b[38;5;129;01min\u001b[39;00m \u001b[38;5;28mself\u001b[39m\u001b[38;5;241m.\u001b[39m_reg_params\u001b[38;5;241m.\u001b[39mitems()}\n\u001b[0;32m-> 1254\u001b[0m         \u001b[38;5;28;01mreturn\u001b[39;00m \u001b[38;5;28;43mself\u001b[39;49m\u001b[38;5;241;43m.\u001b[39;49m\u001b[43mhybrid_forward\u001b[49m\u001b[43m(\u001b[49m\u001b[43mndarray\u001b[49m\u001b[43m,\u001b[49m\u001b[43m \u001b[49m\u001b[43mx\u001b[49m\u001b[43m,\u001b[49m\u001b[43m \u001b[49m\u001b[38;5;241;43m*\u001b[39;49m\u001b[43margs\u001b[49m\u001b[43m,\u001b[49m\u001b[43m \u001b[49m\u001b[38;5;241;43m*\u001b[39;49m\u001b[38;5;241;43m*\u001b[39;49m\u001b[43mparams\u001b[49m\u001b[43m)\u001b[49m\n\u001b[1;32m   1255\u001b[0m params \u001b[38;5;241m=\u001b[39m {i: j\u001b[38;5;241m.\u001b[39mvar() \u001b[38;5;28;01mfor\u001b[39;00m i, j \u001b[38;5;129;01min\u001b[39;00m \u001b[38;5;28mself\u001b[39m\u001b[38;5;241m.\u001b[39m_reg_params\u001b[38;5;241m.\u001b[39mitems()}\n\u001b[1;32m   1256\u001b[0m \u001b[38;5;28;01mwith\u001b[39;00m \u001b[38;5;28mself\u001b[39m\u001b[38;5;241m.\u001b[39mname_scope():\n",
      "File \u001b[0;32m/usr/local/Caskroom/miniconda/base/envs/d2l/lib/python3.9/site-packages/mxnet/gluon/loss.py:606\u001b[0m, in \u001b[0;36mHuberLoss.hybrid_forward\u001b[0;34m(self, F, pred, label, sample_weight)\u001b[0m\n\u001b[1;32m    604\u001b[0m \u001b[38;5;28;01mdef\u001b[39;00m\u001b[38;5;250m \u001b[39m\u001b[38;5;21mhybrid_forward\u001b[39m(\u001b[38;5;28mself\u001b[39m, F, pred, label, sample_weight\u001b[38;5;241m=\u001b[39m\u001b[38;5;28;01mNone\u001b[39;00m):\n\u001b[1;32m    605\u001b[0m     label \u001b[38;5;241m=\u001b[39m _reshape_like(F, label, pred)\n\u001b[0;32m--> 606\u001b[0m     loss \u001b[38;5;241m=\u001b[39m \u001b[43mF\u001b[49m\u001b[38;5;241;43m.\u001b[39;49m\u001b[43mabs\u001b[49m\u001b[43m(\u001b[49m\u001b[43mlabel\u001b[49m\u001b[43m \u001b[49m\u001b[38;5;241;43m-\u001b[39;49m\u001b[43m \u001b[49m\u001b[43mpred\u001b[49m\u001b[43m)\u001b[49m\n\u001b[1;32m    607\u001b[0m     loss \u001b[38;5;241m=\u001b[39m F\u001b[38;5;241m.\u001b[39mwhere(loss \u001b[38;5;241m>\u001b[39m \u001b[38;5;28mself\u001b[39m\u001b[38;5;241m.\u001b[39m_rho, loss \u001b[38;5;241m-\u001b[39m \u001b[38;5;241m0.5\u001b[39m \u001b[38;5;241m*\u001b[39m \u001b[38;5;28mself\u001b[39m\u001b[38;5;241m.\u001b[39m_rho,\n\u001b[1;32m    608\u001b[0m                    (\u001b[38;5;241m0.5\u001b[39m \u001b[38;5;241m/\u001b[39m \u001b[38;5;28mself\u001b[39m\u001b[38;5;241m.\u001b[39m_rho) \u001b[38;5;241m*\u001b[39m F\u001b[38;5;241m.\u001b[39msquare(loss))\n\u001b[1;32m    609\u001b[0m     loss \u001b[38;5;241m=\u001b[39m _apply_weighting(F, loss, \u001b[38;5;28mself\u001b[39m\u001b[38;5;241m.\u001b[39m_weight, sample_weight)\n",
      "File \u001b[0;32m<string>:39\u001b[0m, in \u001b[0;36mabs\u001b[0;34m(data, out, name, **kwargs)\u001b[0m\n",
      "File \u001b[0;32m/usr/local/Caskroom/miniconda/base/envs/d2l/lib/python3.9/site-packages/mxnet/ndarray/register.py:92\u001b[0m, in \u001b[0;36m_verify_all_legacy_ndarrays\u001b[0;34m(op_name, func_name, args, out)\u001b[0m\n\u001b[1;32m     90\u001b[0m \u001b[38;5;28;01mfor\u001b[39;00m arr \u001b[38;5;129;01min\u001b[39;00m args:\n\u001b[1;32m     91\u001b[0m     \u001b[38;5;28;01mif\u001b[39;00m (arr \u001b[38;5;129;01mis\u001b[39;00m \u001b[38;5;129;01mnot\u001b[39;00m \u001b[38;5;28;01mNone\u001b[39;00m) \u001b[38;5;129;01mand\u001b[39;00m (\u001b[38;5;28misinstance\u001b[39m(arr, np_ndarray)):\n\u001b[0;32m---> 92\u001b[0m         \u001b[38;5;28;01mraise\u001b[39;00m \u001b[38;5;167;01mTypeError\u001b[39;00m(\u001b[38;5;124m'\u001b[39m\u001b[38;5;124mOperator `\u001b[39m\u001b[38;5;132;01m{}\u001b[39;00m\u001b[38;5;124m` registered in backend is known as `\u001b[39m\u001b[38;5;132;01m{}\u001b[39;00m\u001b[38;5;124m` in Python. \u001b[39m\u001b[38;5;124m'\u001b[39m\n\u001b[1;32m     93\u001b[0m                         \u001b[38;5;124m'\u001b[39m\u001b[38;5;124mThis is a legacy operator which can only accept \u001b[39m\u001b[38;5;124m'\u001b[39m\n\u001b[1;32m     94\u001b[0m                         \u001b[38;5;124m'\u001b[39m\u001b[38;5;124mlegacy ndarrays, while received an MXNet numpy ndarray. \u001b[39m\u001b[38;5;124m'\u001b[39m\n\u001b[1;32m     95\u001b[0m                         \u001b[38;5;124m'\u001b[39m\u001b[38;5;124mPlease call `as_nd_ndarray()` upon the numpy ndarray to \u001b[39m\u001b[38;5;124m'\u001b[39m\n\u001b[1;32m     96\u001b[0m                         \u001b[38;5;124m'\u001b[39m\u001b[38;5;124mconvert it to a legacy ndarray, and then feed the converted \u001b[39m\u001b[38;5;124m'\u001b[39m\n\u001b[1;32m     97\u001b[0m                         \u001b[38;5;124m'\u001b[39m\u001b[38;5;124marray to this operator.\u001b[39m\u001b[38;5;124m'\u001b[39m\n\u001b[1;32m     98\u001b[0m                         \u001b[38;5;241m.\u001b[39mformat(op_name, func_name))\n\u001b[1;32m     99\u001b[0m \u001b[38;5;28;01mif\u001b[39;00m out \u001b[38;5;129;01mis\u001b[39;00m \u001b[38;5;28;01mNone\u001b[39;00m:\n\u001b[1;32m    100\u001b[0m     \u001b[38;5;28;01mreturn\u001b[39;00m\n",
      "\u001b[0;31mTypeError\u001b[0m: Operator `abs` registered in backend is known as `abs` in Python. This is a legacy operator which can only accept legacy ndarrays, while received an MXNet numpy ndarray. Please call `as_nd_ndarray()` upon the numpy ndarray to convert it to a legacy ndarray, and then feed the converted array to this operator."
     ]
    }
   ],
   "source": [
    "loss = gluon.loss.HuberLoss()\n",
    "for epoch in range(num_epochs):\n",
    "    for X, y in data_iter:\n",
    "        with autograd.record():\n",
    "            l = loss(net(X), y)\n",
    "        l.backward()\n",
    "        trainer.step(batch_size)\n",
    "    l = loss(net(features), labels)\n",
    "    print(f'epoch {epoch + 1}, loss {l.mean().asnumpy():f}')"
   ]
  },
  {
   "cell_type": "markdown",
   "id": "59679fa3",
   "metadata": {},
   "source": [
    "## 练习题"
   ]
  },
  {
   "cell_type": "markdown",
   "id": "2c734c05",
   "metadata": {},
   "source": [
    "练习题 1：如果将小批量的总损失替换为小批量损失的平均值，需要如何更改学习率"
   ]
  },
  {
   "cell_type": "markdown",
   "id": "f7d9c54c",
   "metadata": {},
   "source": [
    "学习率除 batch_size"
   ]
  },
  {
   "cell_type": "markdown",
   "id": "134f9ca6",
   "metadata": {},
   "source": [
    "练习题 2：查看深度学习框架文档，它们提供了哪些损失函数和初始化方法？用Huber损失代替原损失，即\n",
    "\n",
    "$$\n",
    "\\begin{split}l(y,y') = \\begin{cases}|y-y'| -\\frac{\\sigma}{2} & \\text{ if } |y-y'| > \\sigma \\\\ \\frac{1}{2 \\sigma} (y-y')^2 & \\text{ 其它情况}\\end{cases}\\end{split}\n",
    "$$"
   ]
  },
  {
   "cell_type": "markdown",
   "id": "6c988e18",
   "metadata": {},
   "source": [
    "练习题 3：如何访问线性回归的梯度"
   ]
  }
 ],
 "metadata": {
  "kernelspec": {
   "display_name": "d2l",
   "language": "python",
   "name": "python3"
  },
  "language_info": {
   "codemirror_mode": {
    "name": "ipython",
    "version": 3
   },
   "file_extension": ".py",
   "mimetype": "text/x-python",
   "name": "python",
   "nbconvert_exporter": "python",
   "pygments_lexer": "ipython3",
   "version": "3.9.23"
  }
 },
 "nbformat": 4,
 "nbformat_minor": 5
}
