{
 "cells": [
  {
   "cell_type": "markdown",
   "id": "e08ce8dc",
   "metadata": {},
   "source": [
    "# 3.3 线性回归的简单实现"
   ]
  },
  {
   "cell_type": "markdown",
   "id": "d068aa97",
   "metadata": {},
   "source": [
    "## 生成数据集"
   ]
  },
  {
   "cell_type": "code",
   "execution_count": 2,
   "id": "4e54449e",
   "metadata": {},
   "outputs": [],
   "source": [
    "import numpy as np\n",
    "import torch\n",
    "from torch.utils import data\n",
    "from d2l import torch as d2l\n",
    "\n",
    "true_w = torch.tensor([2, -3.4])\n",
    "true_b = 4.2\n",
    "features, labels = d2l.synthetic_data(true_w, true_b, 1000)"
   ]
  },
  {
   "cell_type": "markdown",
   "id": "d667fbba",
   "metadata": {},
   "source": [
    "## 读取数据集"
   ]
  },
  {
   "cell_type": "code",
   "execution_count": 3,
   "id": "dc64ba08",
   "metadata": {},
   "outputs": [],
   "source": [
    "def load_array(data_arrays, batch_size, is_train=True):  #@save\n",
    "    \"\"\"构造一个PyTorch数据迭代器\"\"\"\n",
    "    dataset = data.TensorDataset(*data_arrays)\n",
    "    return data.DataLoader(dataset, batch_size, shuffle=is_train)\n",
    "\n",
    "batch_size = 10\n",
    "data_iter = load_array((features, labels), batch_size)"
   ]
  },
  {
   "cell_type": "code",
   "execution_count": 4,
   "id": "83c4a17d",
   "metadata": {},
   "outputs": [
    {
     "data": {
      "text/plain": [
       "[tensor([[ 0.6209,  0.6748],\n",
       "         [ 0.6836,  0.0624],\n",
       "         [-1.6371,  1.1239],\n",
       "         [-1.2685,  1.0278],\n",
       "         [-1.4172, -0.1315],\n",
       "         [-0.4783,  0.0193],\n",
       "         [ 1.0052, -1.5008],\n",
       "         [-0.2684, -0.0885],\n",
       "         [-0.0667,  0.3780],\n",
       "         [-1.3702, -1.2897]]),\n",
       " tensor([[ 3.1739],\n",
       "         [ 5.3599],\n",
       "         [-2.8885],\n",
       "         [-1.8353],\n",
       "         [ 1.8080],\n",
       "         [ 3.1804],\n",
       "         [11.3085],\n",
       "         [ 3.9663],\n",
       "         [ 2.7619],\n",
       "         [ 5.8352]])]"
      ]
     },
     "execution_count": 4,
     "metadata": {},
     "output_type": "execute_result"
    }
   ],
   "source": [
    "next(iter(data_iter))"
   ]
  },
  {
   "cell_type": "code",
   "execution_count": 5,
   "id": "34ec75a2",
   "metadata": {},
   "outputs": [],
   "source": [
    "# nn是神经网络的缩写\n",
    "from torch import nn\n",
    "\n",
    "net = nn.Sequential(nn.Linear(2, 1))"
   ]
  },
  {
   "cell_type": "code",
   "execution_count": 6,
   "id": "badc4e0c",
   "metadata": {},
   "outputs": [
    {
     "data": {
      "text/plain": [
       "tensor([0.])"
      ]
     },
     "execution_count": 6,
     "metadata": {},
     "output_type": "execute_result"
    }
   ],
   "source": [
    "net[0].weight.data.normal_(0, 0.01)\n",
    "net[0].bias.data.fill_(0)"
   ]
  },
  {
   "cell_type": "code",
   "execution_count": 7,
   "id": "3bdb4c52",
   "metadata": {},
   "outputs": [],
   "source": [
    "loss = nn.MSELoss()"
   ]
  },
  {
   "cell_type": "code",
   "execution_count": 8,
   "id": "916aa9ae",
   "metadata": {},
   "outputs": [],
   "source": [
    "trainer = torch.optim.SGD(net.parameters(), lr=0.03)"
   ]
  },
  {
   "cell_type": "code",
   "execution_count": 9,
   "id": "8fe899f3",
   "metadata": {},
   "outputs": [
    {
     "name": "stdout",
     "output_type": "stream",
     "text": [
      "epoch 1, loss 0.000265\n",
      "epoch 2, loss 0.000100\n",
      "epoch 3, loss 0.000100\n"
     ]
    }
   ],
   "source": [
    "num_epochs = 3\n",
    "for epoch in range(num_epochs):\n",
    "    for X, y in data_iter:\n",
    "        l = loss(net(X) ,y)\n",
    "        trainer.zero_grad()\n",
    "        l.backward()\n",
    "        trainer.step()\n",
    "    l = loss(net(features), labels)\n",
    "    print(f'epoch {epoch + 1}, loss {l:f}')"
   ]
  },
  {
   "cell_type": "code",
   "execution_count": 10,
   "id": "7f073b06",
   "metadata": {},
   "outputs": [
    {
     "name": "stdout",
     "output_type": "stream",
     "text": [
      "w的估计误差： tensor([ 0.0004, -0.0004])\n",
      "b的估计误差： tensor([-0.0008])\n"
     ]
    }
   ],
   "source": [
    "w = net[0].weight.data\n",
    "print('w的估计误差：', true_w - w.reshape(true_w.shape))\n",
    "b = net[0].bias.data\n",
    "print('b的估计误差：', true_b - b)"
   ]
  },
  {
   "cell_type": "markdown",
   "id": "59679fa3",
   "metadata": {},
   "source": [
    "## 练习题"
   ]
  },
  {
   "cell_type": "markdown",
   "id": "2c734c05",
   "metadata": {},
   "source": [
    "练习题 1：如果将小批量的总损失替换为小批量损失的平均值，需要如何更改学习率"
   ]
  },
  {
   "cell_type": "markdown",
   "id": "f7d9c54c",
   "metadata": {},
   "source": [
    "学习率 / batch_size"
   ]
  },
  {
   "cell_type": "markdown",
   "id": "134f9ca6",
   "metadata": {},
   "source": [
    "练习题 2：查看深度学习框架文档，它们提供了哪些损失函数和初始化方法？用Huber损失代替原损失，即\n",
    "\n",
    "$$\n",
    "\\begin{split}l(y,y') = \\begin{cases}|y-y'| -\\frac{\\sigma}{2} & \\text{ if } |y-y'| > \\sigma \\\\ \\frac{1}{2 \\sigma} (y-y')^2 & \\text{ 其它情况}\\end{cases}\\end{split}\n",
    "$$"
   ]
  },
  {
   "cell_type": "code",
   "execution_count": 11,
   "id": "4fcc3721",
   "metadata": {},
   "outputs": [
    {
     "name": "stdout",
     "output_type": "stream",
     "text": [
      "epoch: 1, loss:0.0001288984640268609\n",
      "epoch: 2, loss:0.00012968562077730894\n",
      "epoch: 3, loss:0.0001535606716061011\n"
     ]
    }
   ],
   "source": [
    "# huber损失对应Pytorch的SmoothL1损失\n",
    "loss = nn.SmoothL1Loss(beta=0.5)\n",
    "num_epochs = 3\n",
    "for epoch in range(num_epochs):\n",
    "    for X, y in data_iter:\n",
    "        l = loss(net(X), y)\n",
    "        #开始计算梯度\n",
    "        trainer.zero_grad()\n",
    "        l.backward()\n",
    "        trainer.step()  #对所有参数进行更新\n",
    "    print(\"epoch: {}, loss:{}\".format(epoch + 1, l))"
   ]
  },
  {
   "cell_type": "markdown",
   "id": "6c988e18",
   "metadata": {},
   "source": [
    "练习题 3：如何访问线性回归的梯度"
   ]
  },
  {
   "cell_type": "code",
   "execution_count": 12,
   "id": "c45a5265",
   "metadata": {},
   "outputs": [
    {
     "data": {
      "text/plain": [
       "(tensor([[-0.0125,  0.0099]]), tensor([-0.0155]))"
      ]
     },
     "execution_count": 12,
     "metadata": {},
     "output_type": "execute_result"
    }
   ],
   "source": [
    "net[0].weight.grad,net[0].bias.grad"
   ]
  }
 ],
 "metadata": {
  "kernelspec": {
   "display_name": "d2l",
   "language": "python",
   "name": "python3"
  },
  "language_info": {
   "codemirror_mode": {
    "name": "ipython",
    "version": 3
   },
   "file_extension": ".py",
   "mimetype": "text/x-python",
   "name": "python",
   "nbconvert_exporter": "python",
   "pygments_lexer": "ipython3",
   "version": "3.9.23"
  }
 },
 "nbformat": 4,
 "nbformat_minor": 5
}
