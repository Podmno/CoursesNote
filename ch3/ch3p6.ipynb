{
 "cells": [
  {
   "cell_type": "markdown",
   "id": "b7caf20e",
   "metadata": {},
   "source": [
    "# 3.6 softmax 回归的从零开始实现"
   ]
  },
  {
   "cell_type": "code",
   "execution_count": 2,
   "id": "985db3e3",
   "metadata": {},
   "outputs": [],
   "source": [
    "import torch\n",
    "from IPython import display\n",
    "from d2l import torch as d2l\n",
    "\n",
    "batch_size = 256\n",
    "train_iter, test_iter = d2l.load_data_fashion_mnist(batch_size)"
   ]
  },
  {
   "cell_type": "code",
   "execution_count": 3,
   "id": "7975b166",
   "metadata": {},
   "outputs": [],
   "source": [
    "num_inputs = 784\n",
    "num_outputs = 10\n",
    "\n",
    "W = torch.normal(0, 0.01, size=(num_inputs, num_outputs), requires_grad=True)\n",
    "b = torch.zeros(num_outputs, requires_grad=True)"
   ]
  },
  {
   "cell_type": "code",
   "execution_count": 4,
   "id": "2936c3e4",
   "metadata": {},
   "outputs": [
    {
     "data": {
      "text/plain": [
       "(tensor([[0.0576, 0.2362, 0.4076, 0.1952, 0.1034],\n",
       "         [0.3233, 0.0224, 0.4140, 0.0656, 0.1747]]),\n",
       " tensor([1.0000, 1.0000]))"
      ]
     },
     "execution_count": 4,
     "metadata": {},
     "output_type": "execute_result"
    }
   ],
   "source": [
    "X = torch.tensor([[1.0, 2.0, 3.0], [4.0, 5.0, 6.0]])\n",
    "X.sum(0, keepdim=True), X.sum(1, keepdim=True)\n",
    "\n",
    "\n",
    "def softmax(X):\n",
    "    X_exp = torch.exp(X)\n",
    "    partition = X_exp.sum(1, keepdim=True)\n",
    "    return X_exp / partition  # 这里应用了广播机制\n",
    "\n",
    "X = torch.normal(0, 1, (2, 5))\n",
    "X_prob = softmax(X)\n",
    "X_prob, X_prob.sum(1)"
   ]
  },
  {
   "cell_type": "code",
   "execution_count": 5,
   "id": "f2d8da02",
   "metadata": {},
   "outputs": [],
   "source": [
    "def net(X):\n",
    "    return softmax(torch.matmul(X.reshape((-1, W.shape[0])), W) + b)"
   ]
  },
  {
   "cell_type": "markdown",
   "id": "ec480700",
   "metadata": {},
   "source": [
    "## 练习题"
   ]
  },
  {
   "cell_type": "markdown",
   "id": "ac957fbf",
   "metadata": {},
   "source": [
    "练习题 1：本节直接实现了基于数学定义softmax运算的softmax函数。这可能会导致什么问题？提示：尝试计算 $exp(50)$ 的大小"
   ]
  },
  {
   "cell_type": "code",
   "execution_count": 8,
   "id": "47b366fa",
   "metadata": {},
   "outputs": [
    {
     "data": {
      "text/plain": [
       "tensor(inf)"
      ]
     },
     "execution_count": 8,
     "metadata": {},
     "output_type": "execute_result"
    }
   ],
   "source": [
    "torch.exp(torch.tensor(90))"
   ]
  },
  {
   "cell_type": "markdown",
   "id": "7a096703",
   "metadata": {},
   "source": [
    "可能会导致溢出。"
   ]
  },
  {
   "cell_type": "markdown",
   "id": "f7976cc3",
   "metadata": {},
   "source": [
    "练习题 2：本节中的函数 `cross_entropy` 是根据交叉熵损失函数的定义实现的。它可能有什么问题？提示：考虑对数的定义域"
   ]
  },
  {
   "cell_type": "markdown",
   "id": "9d43cd3e",
   "metadata": {},
   "source": [
    "对数的定义域是 $(0, +\\infty)$，y_hat 预测值如果十分接近于 0 也可能导致溢出。"
   ]
  },
  {
   "cell_type": "markdown",
   "id": "4c700b0b",
   "metadata": {},
   "source": [
    "练习题 3：请想一个解决方案来解决上述两个问题"
   ]
  },
  {
   "cell_type": "markdown",
   "id": "5acd326c",
   "metadata": {},
   "source": [
    "使用 log_softmax，解决溢出问题。"
   ]
  },
  {
   "cell_type": "markdown",
   "id": "a5920b67",
   "metadata": {},
   "source": [
    "练习题 4：返回概率最大的分类标签总是最优解吗？例如，医疗诊断场景下可以这样做吗"
   ]
  },
  {
   "cell_type": "markdown",
   "id": "87f31283",
   "metadata": {},
   "source": [
    "并不是。例如返回的概率为 0.30， 0.29，那么 0.30 相对于 0.29 的优势也并不明显。在医疗场景下这样的确定方法并不准确，例如对肿瘤的分析，即使模型返回的概率小，但结合实际，也可能有必要进行更进一步的确认。"
   ]
  },
  {
   "cell_type": "markdown",
   "id": "c3ce3845",
   "metadata": {},
   "source": [
    "练习题 5：假设我们使用 `softmax` 回归来预测下一个单词，可选取的单词数目过多可能会带来哪些问题"
   ]
  },
  {
   "cell_type": "markdown",
   "id": "12f86569",
   "metadata": {},
   "source": [
    "因为单词的数目过多所以预测得到的单个单词的概率就会较低，可能会难以判断出最优解。"
   ]
  }
 ],
 "metadata": {
  "kernelspec": {
   "display_name": "d2l",
   "language": "python",
   "name": "python3"
  },
  "language_info": {
   "codemirror_mode": {
    "name": "ipython",
    "version": 3
   },
   "file_extension": ".py",
   "mimetype": "text/x-python",
   "name": "python",
   "nbconvert_exporter": "python",
   "pygments_lexer": "ipython3",
   "version": "3.9.23"
  }
 },
 "nbformat": 4,
 "nbformat_minor": 5
}
