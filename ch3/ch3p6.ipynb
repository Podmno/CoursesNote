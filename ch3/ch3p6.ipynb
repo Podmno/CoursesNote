{
 "cells": [
  {
   "cell_type": "markdown",
   "id": "b7caf20e",
   "metadata": {},
   "source": [
    "# 3.6 softmax 回归的从零开始实现"
   ]
  }
 ],
 "metadata": {
  "language_info": {
   "name": "python"
  }
 },
 "nbformat": 4,
 "nbformat_minor": 5
}
