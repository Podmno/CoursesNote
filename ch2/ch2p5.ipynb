{
 "cells": [
  {
   "cell_type": "markdown",
   "id": "b7483700",
   "metadata": {},
   "source": [
    "# 2.5 自动微分"
   ]
  },
  {
   "cell_type": "code",
   "execution_count": 1,
   "id": "f511957a",
   "metadata": {},
   "outputs": [
    {
     "data": {
      "text/plain": [
       "tensor([0., 1., 2., 3.])"
      ]
     },
     "execution_count": 1,
     "metadata": {},
     "output_type": "execute_result"
    }
   ],
   "source": [
    "import torch\n",
    "\n",
    "x = torch.arange(4.0)\n",
    "x"
   ]
  },
  {
   "cell_type": "markdown",
   "id": "d499f9ab",
   "metadata": {},
   "source": [
    "## 练习题"
   ]
  },
  {
   "cell_type": "markdown",
   "id": "de29347b",
   "metadata": {},
   "source": [
    "练习题 1：为什么计算二阶导数比计算一阶导数的开销要更大？"
   ]
  },
  {
   "cell_type": "markdown",
   "id": "b0b391ba",
   "metadata": {},
   "source": [
    "练习题 2：在运行反向传播函数之后，立即再次运行它，看看会发生什么"
   ]
  },
  {
   "cell_type": "markdown",
   "id": "860ba6d8",
   "metadata": {},
   "source": [
    "练习题 3：在运行反向传播函数之后，立即再次运行它，看看会发生什么"
   ]
  },
  {
   "cell_type": "markdown",
   "id": "81261023",
   "metadata": {},
   "source": [
    "练习题 4：重新设计一个求控制流梯度的例子，运行并分析结果"
   ]
  },
  {
   "cell_type": "markdown",
   "id": "056d98e2",
   "metadata": {},
   "source": [
    "练习题 5：使 $f(x) = sin(x)$，绘制 $f(x)$ 和 $\\frac{df(x)}{dx}$ 的图像，其中后者不使用 $f^\\prime (x) = cos(x)$"
   ]
  }
 ],
 "metadata": {
  "kernelspec": {
   "display_name": "d2l",
   "language": "python",
   "name": "python3"
  },
  "language_info": {
   "codemirror_mode": {
    "name": "ipython",
    "version": 3
   },
   "file_extension": ".py",
   "mimetype": "text/x-python",
   "name": "python",
   "nbconvert_exporter": "python",
   "pygments_lexer": "ipython3",
   "version": "3.9.23"
  }
 },
 "nbformat": 4,
 "nbformat_minor": 5
}
