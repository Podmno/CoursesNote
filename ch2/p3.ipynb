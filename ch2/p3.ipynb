{
 "cells": [
  {
   "cell_type": "markdown",
   "id": "b87149f4",
   "metadata": {},
   "source": [
    "# 2.3 线性代数"
   ]
  },
  {
   "cell_type": "markdown",
   "id": "6fc70ef7",
   "metadata": {},
   "source": [
    "## 范数 Norm\n",
    "\n",
    "### L1 范数（曼哈顿范数）\n",
    "\n",
    "计算所有元素的绝对值之和。\n",
    "\n",
    "$$\n",
    "|| x ||_1 = \\sum^{n}_{i=1} | x_i |\n",
    "$$\n",
    "\n",
    "### L2 范数（欧几里得范数）\n",
    "\n",
    "计算距离\n",
    "\n",
    "$$\n",
    "|| x ||_2 = \\sqrt{\\sum^{n}_{i=1} x^2_i}\n",
    "$$\n",
    "\n",
    "### Lp 范数（一般形式）\n",
    "\n",
    "$$\n",
    "|| x ||_p = (\\sum^n_{i=1} | x_i |^p)^{1/p}\n",
    "$$\n",
    "\n",
    "* L1 和 L2 是 Lp 范数的特例\n",
    "* 通过调节 p 来控制范数行为"
   ]
  }
 ],
 "metadata": {
  "kernelspec": {
   "display_name": "d2l",
   "language": "python",
   "name": "python3"
  },
  "language_info": {
   "name": "python",
   "version": "3.9.23"
  }
 },
 "nbformat": 4,
 "nbformat_minor": 5
}
