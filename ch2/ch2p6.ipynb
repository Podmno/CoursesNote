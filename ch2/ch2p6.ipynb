{
 "cells": [
  {
   "cell_type": "markdown",
   "id": "8e9ec38a",
   "metadata": {},
   "source": [
    "# 2.6 概率"
   ]
  },
  {
   "cell_type": "markdown",
   "id": "7c25cd85",
   "metadata": {},
   "source": [
    "练习题 1：进行 m = 500 组实验，每组抽取 n = 10 个样本。改变 m 和 n，观察和分析实验结果。"
   ]
  },
  {
   "cell_type": "markdown",
   "id": "0310053f",
   "metadata": {},
   "source": [
    "练习题 2：给定两个概率为 $P(A)$ 和 $P(B)$ 的事件，计算 $P(A \\cup B)$ 和 $P(A \\cap B)$ 的上限和下限"
   ]
  },
  {
   "cell_type": "markdown",
   "id": "db333dbf",
   "metadata": {},
   "source": [
    "练习题 3：假设我们有一系列随机变量，例如 $A$、$B$ 和 $C$，其中 $B$ 只依赖于 $A$，而 $C$ 只依赖于 $A$，而 $C$ 只依赖于 $B$，能简化联合概率 $P(A,B,C)$ 吗？"
   ]
  },
  {
   "cell_type": "markdown",
   "id": "000b5f2a",
   "metadata": {},
   "source": [
    "练习题 4：在 2.6.2.6 节中，第一个测试更准确。为什么不运行第一个测试两次，而是同时运行第一个和第二个测试？"
   ]
  }
 ],
 "metadata": {
  "language_info": {
   "name": "python"
  }
 },
 "nbformat": 4,
 "nbformat_minor": 5
}
