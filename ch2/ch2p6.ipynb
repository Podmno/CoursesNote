{
 "cells": [
  {
   "cell_type": "markdown",
   "id": "8e9ec38a",
   "metadata": {},
   "source": [
    "# 2.6 概率"
   ]
  },
  {
   "cell_type": "markdown",
   "id": "7c25cd85",
   "metadata": {},
   "source": [
    "练习题 1：进行 m = 500 组实验，每组抽取 n = 10 个样本。改变 m 和 n，观察和分析实验结果。"
   ]
  }
 ],
 "metadata": {
  "language_info": {
   "name": "python"
  }
 },
 "nbformat": 4,
 "nbformat_minor": 5
}
