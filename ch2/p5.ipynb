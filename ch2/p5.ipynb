{
 "cells": [
  {
   "cell_type": "markdown",
   "id": "b7483700",
   "metadata": {},
   "source": [
    "# 2.5 自动微分"
   ]
  }
 ],
 "metadata": {
  "language_info": {
   "name": "python"
  }
 },
 "nbformat": 4,
 "nbformat_minor": 5
}
