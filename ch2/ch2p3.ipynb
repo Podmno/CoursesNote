{
 "cells": [
  {
   "cell_type": "markdown",
   "id": "b87149f4",
   "metadata": {},
   "source": [
    "# 2.3 线性代数"
   ]
  },
  {
   "cell_type": "markdown",
   "id": "6fc70ef7",
   "metadata": {},
   "source": [
    "## 范数 Norm\n",
    "\n",
    "### L1 范数（曼哈顿范数）\n",
    "\n",
    "计算所有元素的绝对值之和。\n",
    "\n",
    "$$\n",
    "|| x ||_1 = \\sum^{n}_{i=1} | x_i |\n",
    "$$\n",
    "\n",
    "### L2 范数（欧几里得范数）\n",
    "\n",
    "计算距离\n",
    "\n",
    "$$\n",
    "|| x ||_2 = \\sqrt{\\sum^{n}_{i=1} x^2_i}\n",
    "$$\n",
    "\n",
    "### Lp 范数（一般形式）\n",
    "\n",
    "$$\n",
    "|| x ||_p = (\\sum^n_{i=1} | x_i |^p)^{1/p}\n",
    "$$\n",
    "\n",
    "* L1 和 L2 是 Lp 范数的特例\n",
    "* 通过调节 p 来控制范数行为"
   ]
  },
  {
   "cell_type": "markdown",
   "id": "038efdf6",
   "metadata": {},
   "source": [
    "## 练习题\n",
    "\n"
   ]
  },
  {
   "cell_type": "markdown",
   "id": "0a5e47ca",
   "metadata": {},
   "source": [
    "练习题 1：证明一个矩阵 $A$ 的转置是 $A$，即 $(A^T)^T = A$"
   ]
  },
  {
   "cell_type": "code",
   "execution_count": 1,
   "id": "30de7ce0",
   "metadata": {},
   "outputs": [
    {
     "data": {
      "text/plain": [
       "array([[ True,  True,  True,  True],\n",
       "       [ True,  True,  True,  True],\n",
       "       [ True,  True,  True,  True]])"
      ]
     },
     "execution_count": 1,
     "metadata": {},
     "output_type": "execute_result"
    }
   ],
   "source": [
    "import numpy as np\n",
    "A = np.arange(12).reshape(3, 4)\n",
    "A.T.T == A"
   ]
  },
  {
   "cell_type": "markdown",
   "id": "8dff493b",
   "metadata": {},
   "source": [
    "练习题 2：给出两个矩阵 $A$ 和 $B$，证明 “它们转置的和” 等于 “它们和的转置”，即 $A^T + B^T = (A+B)^T$。"
   ]
  },
  {
   "cell_type": "code",
   "execution_count": 2,
   "id": "0bced4dc",
   "metadata": {},
   "outputs": [
    {
     "data": {
      "text/plain": [
       "array([[ True,  True,  True],\n",
       "       [ True,  True,  True],\n",
       "       [ True,  True,  True],\n",
       "       [ True,  True,  True]])"
      ]
     },
     "execution_count": 2,
     "metadata": {},
     "output_type": "execute_result"
    }
   ],
   "source": [
    "A = np.arange(12).reshape(3,4)\n",
    "B = np.arange(12,24).reshape(3,4)\n",
    "(A.T + B.T) == (A+B).T"
   ]
  },
  {
   "cell_type": "markdown",
   "id": "4d7f5c24",
   "metadata": {},
   "source": [
    "练习题 3：给定任意方阵 $A$，$A+A^T$ 总是对称的吗？为什么？"
   ]
  },
  {
   "cell_type": "code",
   "execution_count": 7,
   "id": "081819ca",
   "metadata": {},
   "outputs": [
    {
     "data": {
      "text/plain": [
       "array([[ True,  True,  True,  True],\n",
       "       [ True,  True,  True,  True],\n",
       "       [ True,  True,  True,  True],\n",
       "       [ True,  True,  True,  True]])"
      ]
     },
     "execution_count": 7,
     "metadata": {},
     "output_type": "execute_result"
    }
   ],
   "source": [
    "A = np.arange(16).reshape(4,4)\n",
    "(A + A.T) == (A + A.T).T"
   ]
  },
  {
   "cell_type": "markdown",
   "id": "db31c15e",
   "metadata": {},
   "source": [
    "练习题 4：本节中定义了形状的 (2,3,4) 的张量 X，len(X) 的输出结果是什么？"
   ]
  },
  {
   "cell_type": "code",
   "execution_count": 8,
   "id": "41157254",
   "metadata": {},
   "outputs": [
    {
     "data": {
      "text/plain": [
       "2"
      ]
     },
     "execution_count": 8,
     "metadata": {},
     "output_type": "execute_result"
    }
   ],
   "source": [
    "A = np.arange(24).reshape(2,3,4)\n",
    "len(A)"
   ]
  },
  {
   "cell_type": "markdown",
   "id": "751eddd8",
   "metadata": {},
   "source": [
    "练习题 5：对于任意形状的张量 X，len(X) 是否总是对应于 X 特定轴的长度？这个轴是什么？"
   ]
  },
  {
   "cell_type": "markdown",
   "id": "549b6bd8",
   "metadata": {},
   "source": [
    "练习题 6：运行 A/A.sum(axis=1)，看看会发生什么。请分析一下原因？"
   ]
  },
  {
   "cell_type": "markdown",
   "id": "56b46699",
   "metadata": {},
   "source": [
    "练习题 7：考虑一个具有形状 (2,3,4) 的张量，在轴 0、1、2 上的求和输出是什么形状？"
   ]
  },
  {
   "cell_type": "markdown",
   "id": "951130e9",
   "metadata": {},
   "source": [
    "练习题 8：为 linalg.norm 函数提供 3 个或更多轴的张量，并观察其输出。对于任意形状的张量这个函数计算得到什么？"
   ]
  }
 ],
 "metadata": {
  "kernelspec": {
   "display_name": "d2l",
   "language": "python",
   "name": "python3"
  },
  "language_info": {
   "codemirror_mode": {
    "name": "ipython",
    "version": 3
   },
   "file_extension": ".py",
   "mimetype": "text/x-python",
   "name": "python",
   "nbconvert_exporter": "python",
   "pygments_lexer": "ipython3",
   "version": "3.9.23"
  }
 },
 "nbformat": 4,
 "nbformat_minor": 5
}
