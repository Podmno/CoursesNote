{
 "cells": [
  {
   "cell_type": "markdown",
   "id": "982b3c19",
   "metadata": {},
   "source": [
    "# 2.4 微积分"
   ]
  },
  {
   "cell_type": "markdown",
   "id": "6df1b37e",
   "metadata": {},
   "source": [
    "## 练习题"
   ]
  },
  {
   "cell_type": "markdown",
   "id": "0fefc2ee",
   "metadata": {},
   "source": [
    "练习题 1：绘制函数 $y = f(x) = x^3 - \\frac{1}{x}$ 和其在 $x=1$ 处切线的图像\n"
   ]
  },
  {
   "cell_type": "markdown",
   "id": "85efec76",
   "metadata": {},
   "source": [
    "练习题 2：求函数 $f(x) = 3x^2_1 + 5e^{x_2}$ 的梯度"
   ]
  },
  {
   "cell_type": "markdown",
   "id": "8b0aeffa",
   "metadata": {},
   "source": [
    "练习题 3：函数 $f(x) = || x ||_2 的梯度是什么$"
   ]
  },
  {
   "cell_type": "markdown",
   "id": "de44cdc0",
   "metadata": {},
   "source": [
    "练习题 4：尝试写出函数 $u = f(x,y,z)$，其中 $x =x (a,b)$，$y = y(a,b)$，$z =z (a,b)$ 的链式法则"
   ]
  }
 ],
 "metadata": {
  "kernelspec": {
   "display_name": "d2l",
   "language": "python",
   "name": "python3"
  },
  "language_info": {
   "codemirror_mode": {
    "name": "ipython",
    "version": 3
   },
   "file_extension": ".py",
   "mimetype": "text/x-python",
   "name": "python",
   "nbconvert_exporter": "python",
   "pygments_lexer": "ipython3",
   "version": "3.9.23"
  }
 },
 "nbformat": 4,
 "nbformat_minor": 5
}
