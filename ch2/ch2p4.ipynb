{
 "cells": [
  {
   "cell_type": "markdown",
   "id": "982b3c19",
   "metadata": {},
   "source": [
    "# 2.4 微积分"
   ]
  }
 ],
 "metadata": {
  "language_info": {
   "name": "python"
  }
 },
 "nbformat": 4,
 "nbformat_minor": 5
}
