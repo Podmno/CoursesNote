{
 "cells": [
  {
   "cell_type": "markdown",
   "id": "85ab65e0",
   "metadata": {},
   "source": [
    "# 2.2 读取数据集\n",
    "\n",
    "创建测试 CSV 文件，保存在 data 目录中。"
   ]
  },
  {
   "cell_type": "code",
   "execution_count": 2,
   "id": "c3770078",
   "metadata": {},
   "outputs": [
    {
     "name": "stdout",
     "output_type": "stream",
     "text": [
      "data/house_tiny.csv\n"
     ]
    }
   ],
   "source": [
    "import os\n",
    "\n",
    "os.makedirs(os.path.join('data'), exist_ok=True)\n",
    "data_file = os.path.join('data', 'house_tiny.csv')\n",
    "print(data_file)\n",
    "with open(data_file, 'w') as f:\n",
    "    f.write('NumRooms,Alley,Price\\n')\n",
    "    f.write('NA,Pave,127500\\n')\n",
    "    f.write('2,NA,106000\\n')\n",
    "    f.write('4,NA,178100\\n')\n",
    "    f.write('NA,NA,140000\\n')"
   ]
  },
  {
   "cell_type": "code",
   "execution_count": 3,
   "id": "a2517160",
   "metadata": {},
   "outputs": [
    {
     "name": "stdout",
     "output_type": "stream",
     "text": [
      "   NumRooms Alley   Price\n",
      "0       NaN  Pave  127500\n",
      "1       2.0   NaN  106000\n",
      "2       4.0   NaN  178100\n",
      "3       NaN   NaN  140000\n"
     ]
    }
   ],
   "source": [
    "import pandas as pd\n",
    "\n",
    "data = pd.read_csv(data_file)\n",
    "print(data)"
   ]
  },
  {
   "cell_type": "markdown",
   "id": "1f6dbb64",
   "metadata": {},
   "source": [
    "## 处理缺失值"
   ]
  },
  {
   "cell_type": "markdown",
   "id": "48a2914a",
   "metadata": {},
   "source": [
    "`loc`: 通过行、列的 **名称/标签** 来索引\n",
    "\n",
    "`iloc`: 通过行、列的 **索引位置（数字）** 来寻找数据"
   ]
  },
  {
   "cell_type": "code",
   "execution_count": 4,
   "id": "f530aa63",
   "metadata": {},
   "outputs": [
    {
     "data": {
      "text/plain": [
       "NumRooms       2.0\n",
       "Alley          NaN\n",
       "Price       106000\n",
       "Name: 1, dtype: object"
      ]
     },
     "execution_count": 4,
     "metadata": {},
     "output_type": "execute_result"
    }
   ],
   "source": [
    "# 检索第 2 行的数据\n",
    "data.loc[1]      # data.loc[1, :] 同理"
   ]
  },
  {
   "cell_type": "code",
   "execution_count": 5,
   "id": "e20231cd",
   "metadata": {},
   "outputs": [
    {
     "data": {
      "text/plain": [
       "0    Pave\n",
       "1     NaN\n",
       "2     NaN\n",
       "3     NaN\n",
       "Name: Alley, dtype: object"
      ]
     },
     "execution_count": 5,
     "metadata": {},
     "output_type": "execute_result"
    }
   ],
   "source": [
    "# 读取第 Alley 列的全部值\n",
    "data.loc[:, \"Alley\"]"
   ]
  },
  {
   "cell_type": "code",
   "execution_count": 6,
   "id": "8c3288a3",
   "metadata": {},
   "outputs": [
    {
     "data": {
      "text/plain": [
       "4.0"
      ]
     },
     "execution_count": 6,
     "metadata": {},
     "output_type": "execute_result"
    }
   ],
   "source": [
    "# 同时定位 第 2 行 NumRooms 的值\n",
    "data.loc[2, \"NumRooms\"]"
   ]
  },
  {
   "cell_type": "code",
   "execution_count": 7,
   "id": "3feac446",
   "metadata": {},
   "outputs": [
    {
     "data": {
      "text/plain": [
       "0    Pave\n",
       "1     NaN\n",
       "2     NaN\n",
       "3     NaN\n",
       "Name: Alley, dtype: object"
      ]
     },
     "execution_count": 7,
     "metadata": {},
     "output_type": "execute_result"
    }
   ],
   "source": [
    "# 第二列的值 切片规则：左闭右开\n",
    "data.iloc[:, 1]"
   ]
  },
  {
   "cell_type": "code",
   "execution_count": 8,
   "id": "a3c7a793",
   "metadata": {},
   "outputs": [
    {
     "name": "stdout",
     "output_type": "stream",
     "text": [
      "   NumRooms Alley\n",
      "0       NaN  Pave\n",
      "1       2.0   NaN\n",
      "2       4.0   NaN\n",
      "3       NaN   NaN\n",
      "------------------------------\n",
      "0    127500\n",
      "1    106000\n",
      "2    178100\n",
      "3    140000\n",
      "Name: Price, dtype: int64\n"
     ]
    }
   ],
   "source": [
    "# 1 ~ 2 列\n",
    "inputs = data.iloc[:, 0:2]\n",
    "# 第 3 列\n",
    "outputs = data.iloc[:, 2]\n",
    "print(inputs)\n",
    "print(\"------------------------------\")\n",
    "print(outputs)"
   ]
  },
  {
   "cell_type": "code",
   "execution_count": 9,
   "id": "43af67f7",
   "metadata": {},
   "outputs": [
    {
     "name": "stdout",
     "output_type": "stream",
     "text": [
      "   NumRooms Alley\n",
      "0       3.0  Pave\n",
      "1       2.0   NaN\n",
      "2       4.0   NaN\n",
      "3       3.0   NaN\n"
     ]
    }
   ],
   "source": [
    "# fillna NaN 填充\n",
    "inputs = inputs.fillna(inputs.mean())\n",
    "print(inputs)"
   ]
  },
  {
   "cell_type": "markdown",
   "id": "d0f96e54",
   "metadata": {},
   "source": [
    "使用 pandas 将 Alley 转为 2 个列：`Alley_Pave` 及 `Alley_nan`\n",
    "\n",
    "如果 Alley 为 Pave，本列（Alley_Pave）值为 1，否则为 0。\n",
    "\n",
    "这样便于后续的张量格式转换以及数据的处理（将数据全部转换为数值的形式）。"
   ]
  },
  {
   "cell_type": "code",
   "execution_count": 10,
   "id": "392f0b74",
   "metadata": {},
   "outputs": [
    {
     "name": "stdout",
     "output_type": "stream",
     "text": [
      "   NumRooms  Alley_Pave  Alley_nan\n",
      "0       3.0           1          0\n",
      "1       2.0           0          1\n",
      "2       4.0           0          1\n",
      "3       3.0           0          1\n"
     ]
    }
   ],
   "source": [
    "inputs = pd.get_dummies(inputs, dummy_na=True)\n",
    "print(inputs)"
   ]
  },
  {
   "cell_type": "markdown",
   "id": "9c9873eb",
   "metadata": {},
   "source": [
    "## 转换为张量格式"
   ]
  },
  {
   "cell_type": "code",
   "execution_count": 11,
   "id": "692bdaa7",
   "metadata": {},
   "outputs": [
    {
     "data": {
      "text/plain": [
       "(array([[3., 1., 0.],\n",
       "        [2., 0., 1.],\n",
       "        [4., 0., 1.],\n",
       "        [3., 0., 1.]], dtype=float64),\n",
       " array([127500., 106000., 178100., 140000.], dtype=float64))"
      ]
     },
     "execution_count": 11,
     "metadata": {},
     "output_type": "execute_result"
    }
   ],
   "source": [
    "from mxnet import np\n",
    "\n",
    "X, y = np.array(inputs.to_numpy(dtype=float)), np.array(outputs.to_numpy(dtype=float))\n",
    "X, y"
   ]
  },
  {
   "cell_type": "markdown",
   "id": "11e614fb",
   "metadata": {},
   "source": [
    "## 练习题"
   ]
  },
  {
   "cell_type": "markdown",
   "id": "66bb111b",
   "metadata": {},
   "source": [
    "练习 1：除缺失值最多的列："
   ]
  },
  {
   "cell_type": "code",
   "execution_count": 14,
   "id": "c2ef715c",
   "metadata": {},
   "outputs": [
    {
     "name": "stdout",
     "output_type": "stream",
     "text": [
      "NumRooms    2\n",
      "Price       0\n",
      "dtype: int64\n",
      "----------------\n",
      "    Price\n",
      "0  127500\n",
      "1  106000\n",
      "2  178100\n",
      "3  140000\n"
     ]
    }
   ],
   "source": [
    "sum = data.isna().sum()\n",
    "print(sum)\n",
    "print(\"----------------\")\n",
    "data = data.drop(columns=sum.index[sum.argmax()])\n",
    "print(data)"
   ]
  },
  {
   "cell_type": "markdown",
   "id": "b7f884fe",
   "metadata": {},
   "source": [
    "练习 2：将预处理后的数据集转换为张量格式"
   ]
  },
  {
   "cell_type": "code",
   "execution_count": 15,
   "id": "00f5d621",
   "metadata": {},
   "outputs": [
    {
     "data": {
      "text/plain": [
       "array([[127500.],\n",
       "       [106000.],\n",
       "       [178100.],\n",
       "       [140000.]], dtype=float64)"
      ]
     },
     "execution_count": 15,
     "metadata": {},
     "output_type": "execute_result"
    }
   ],
   "source": [
    "data_numpy = np.array(data.to_numpy(dtype=float))\n",
    "data_numpy"
   ]
  }
 ],
 "metadata": {
  "kernelspec": {
   "display_name": "d2l",
   "language": "python",
   "name": "python3"
  },
  "language_info": {
   "codemirror_mode": {
    "name": "ipython",
    "version": 3
   },
   "file_extension": ".py",
   "mimetype": "text/x-python",
   "name": "python",
   "nbconvert_exporter": "python",
   "pygments_lexer": "ipython3",
   "version": "3.9.23"
  }
 },
 "nbformat": 4,
 "nbformat_minor": 5
}
