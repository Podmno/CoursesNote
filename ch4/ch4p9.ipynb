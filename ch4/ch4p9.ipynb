{
 "cells": [
  {
   "cell_type": "markdown",
   "id": "e8c0d9ce",
   "metadata": {},
   "source": [
    "# 4.9 环境和分布偏移"
   ]
  }
 ],
 "metadata": {
  "language_info": {
   "name": "python"
  }
 },
 "nbformat": 4,
 "nbformat_minor": 5
}
