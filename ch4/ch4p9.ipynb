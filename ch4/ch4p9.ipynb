{
 "cells": [
  {
   "cell_type": "markdown",
   "id": "e8c0d9ce",
   "metadata": {},
   "source": [
    "# 4.9 环境和分布偏移"
   ]
  },
  {
   "cell_type": "markdown",
   "id": "f95a6cb8",
   "metadata": {},
   "source": [
    "## 练习题"
   ]
  },
  {
   "cell_type": "markdown",
   "id": "67f5d808",
   "metadata": {},
   "source": [
    "练习题 1：当我们改变搜索引擎的行为时会发生什么？用户可能会做什么？广告商呢"
   ]
  },
  {
   "cell_type": "markdown",
   "id": "1067cfb6",
   "metadata": {},
   "source": [
    "搜索结果发生变化。用户可能会由于搜索结果的改变搜索方式，广告商会改变投放位置。"
   ]
  },
  {
   "cell_type": "markdown",
   "id": "6120e5d3",
   "metadata": {},
   "source": [
    "练习题 2：实现一个协变量偏移检测器。提示：构建一个分类器"
   ]
  },
  {
   "cell_type": "markdown",
   "id": "52ec455f",
   "metadata": {},
   "source": [
    "练习题 3：实现协变量偏移纠正"
   ]
  },
  {
   "cell_type": "markdown",
   "id": "95415d79",
   "metadata": {},
   "source": [
    "练习题 4：除了分布偏移，还有什么会影响经验风险接近真实风险的程度"
   ]
  }
 ],
 "metadata": {
  "language_info": {
   "name": "python"
  }
 },
 "nbformat": 4,
 "nbformat_minor": 5
}
