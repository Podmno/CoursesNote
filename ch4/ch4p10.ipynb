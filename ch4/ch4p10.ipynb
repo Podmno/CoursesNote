{
 "cells": [
  {
   "cell_type": "markdown",
   "id": "9a5907b9",
   "metadata": {},
   "source": [
    "# 4.10 实战 Kaggle 比赛：预测房价"
   ]
  }
 ],
 "metadata": {
  "language_info": {
   "name": "python"
  }
 },
 "nbformat": 4,
 "nbformat_minor": 5
}
