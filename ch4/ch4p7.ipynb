{
 "cells": [
  {
   "cell_type": "markdown",
   "id": "332c3eb9",
   "metadata": {},
   "source": [
    "# 4.7 前向传播、反向传播和计算图"
   ]
  }
 ],
 "metadata": {
  "language_info": {
   "name": "python"
  }
 },
 "nbformat": 4,
 "nbformat_minor": 5
}
