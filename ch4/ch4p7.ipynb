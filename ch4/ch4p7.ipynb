{
 "cells": [
  {
   "cell_type": "markdown",
   "id": "332c3eb9",
   "metadata": {},
   "source": [
    "# 4.7 前向传播、反向传播和计算图"
   ]
  },
  {
   "cell_type": "markdown",
   "id": "79e46c73",
   "metadata": {},
   "source": [
    "## 练习题"
   ]
  },
  {
   "cell_type": "markdown",
   "id": "31ea860d",
   "metadata": {},
   "source": [
    "练习题 1：假设一些标量函数 $X$ 的输入 $X$ 是 $n * m$ 矩阵。$f$ 相对于 $X$ 的梯度维数是多少"
   ]
  },
  {
   "cell_type": "markdown",
   "id": "8e41011b",
   "metadata": {},
   "source": [
    "练习题 2：向本节中描述的模型的隐藏层添加偏置项（不需要在正则化项中包含偏置项）\n",
    "\n",
    "* 画出相应的计算图\n",
    "* 推导正向和反向传播方程"
   ]
  },
  {
   "cell_type": "markdown",
   "id": "5ab108e6",
   "metadata": {},
   "source": [
    "练习题 3：计算本节所描述的模型，用于训练和预测的内存占用"
   ]
  },
  {
   "cell_type": "markdown",
   "id": "e0d2e95c",
   "metadata": {},
   "source": [
    "练习题 4：假设想计算二阶导数。计算图发生了什么？预计计算需要多长时间"
   ]
  },
  {
   "cell_type": "markdown",
   "id": "f5a3033a",
   "metadata": {},
   "source": [
    "练习题 5：假设计算图对当前拥有的GPU来说太大了\n",
    "\n",
    "* 请试着把它划分到多个GPU上\n",
    "* 与小批量训练相比，有哪些优点和缺点"
   ]
  },
  {
   "cell_type": "markdown",
   "id": "07fc7a70",
   "metadata": {},
   "source": [
    "优点：使用多个 GPU 可以增加载入的数据容量，提升训练速度以及更大的 `batch_size`\n",
    "\n",
    "缺点：多个 GPU 间需要额外的数据交换开销，需要建立额外的多线程同步机制"
   ]
  }
 ],
 "metadata": {
  "language_info": {
   "name": "python"
  }
 },
 "nbformat": 4,
 "nbformat_minor": 5
}
