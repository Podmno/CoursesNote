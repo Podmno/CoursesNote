{
 "cells": [
  {
   "cell_type": "markdown",
   "id": "53b6ed98",
   "metadata": {},
   "source": [
    "# 6.1 从全连接层到卷积"
   ]
  }
 ],
 "metadata": {
  "language_info": {
   "name": "python"
  }
 },
 "nbformat": 4,
 "nbformat_minor": 5
}
